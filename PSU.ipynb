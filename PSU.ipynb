{
 "cells": [
  {
   "cell_type": "code",
   "execution_count": 9,
   "metadata": {},
   "outputs": [
    {
     "data": {
      "text/plain": [
       "Index(['ID_Tipo', 'Tipo', 'ID _Institution', 'Colegio', 'Cant_alumnos',\n",
       "       'Promedio_PSU', 'Promedio_NEM'],\n",
       "      dtype='object')"
      ]
     },
     "execution_count": 9,
     "metadata": {},
     "output_type": "execute_result"
    }
   ],
   "source": [
    "import pandas as pd \n",
    "# Cargamos excel a un objeto pandas DataFrame\n",
    "psu = pd.read_excel('psu2016.xls') #tener instaldo en conda xlrd para ver archivos excel\n",
    "# Imprimimos las columnas\n",
    "psu.columns"
   ]
  },
  {
   "cell_type": "code",
   "execution_count": 10,
   "metadata": {},
   "outputs": [
    {
     "data": {
      "text/plain": [
       "(3578, 7)"
      ]
     },
     "execution_count": 10,
     "metadata": {},
     "output_type": "execute_result"
    }
   ],
   "source": [
    "psu.shape #muestra la cantidad de filas y columnas del archivo psu2016"
   ]
  },
  {
   "cell_type": "code",
   "execution_count": 3,
   "metadata": {},
   "outputs": [
    {
     "data": {
      "text/plain": [
       "<bound method NDFrame.head of       ID_Tipo                                    Tipo  ID _Institution  \\\n",
       "0           1                               Municipal                1   \n",
       "1           1                               Municipal                2   \n",
       "2           1                               Municipal                3   \n",
       "3           1                               Municipal                4   \n",
       "4           1                               Municipal                5   \n",
       "...       ...                                     ...              ...   \n",
       "3573        4  Corporación de Administración Delegada             3574   \n",
       "3574        4  Corporación de Administración Delegada             3575   \n",
       "3575        4  Corporación de Administración Delegada             3576   \n",
       "3576        4  Corporación de Administración Delegada             3577   \n",
       "3577        4  Corporación de Administración Delegada             3578   \n",
       "\n",
       "                                                Colegio  Cant_alumnos  \\\n",
       "0                               Liceo Politécnico Arica           119   \n",
       "1                             Liceo Octavio Palma Pérez           515   \n",
       "2                              Jovina Naranjo Fernández           199   \n",
       "3           Liceo Politécnico Antonio Varas de la Barra           227   \n",
       "4               Colegio Integrado Eduardo Frei Montalva           111   \n",
       "...                                                 ...           ...   \n",
       "3573           Liceo Industrial Benjamín Dávila Larraín           192   \n",
       "3574  Liceo Instituto Tecnológico y Comercial Recole...            65   \n",
       "3575           Liceo Polivalente Rafael Donoso Carrasco           112   \n",
       "3576                       Liceo Industrial de Recoleta            62   \n",
       "3577                    Liceo Comercial de San Bernardo           288   \n",
       "\n",
       "      Promedio_PSU  Promedio_NEM  \n",
       "0       415.960227      5.585470  \n",
       "1       510.320136      5.989162  \n",
       "2       471.464706      5.530867  \n",
       "3       412.055556      5.689031  \n",
       "4       458.666667      5.494234  \n",
       "...            ...           ...  \n",
       "3573    489.657738      5.438438  \n",
       "3574    418.036364      5.268462  \n",
       "3575    492.244444      5.263571  \n",
       "3576    401.192308      5.273387  \n",
       "3577    453.980315      5.394201  \n",
       "\n",
       "[3578 rows x 7 columns]>"
      ]
     },
     "execution_count": 3,
     "metadata": {},
     "output_type": "execute_result"
    }
   ],
   "source": [
    "psu.head #muestra los primeros 5 campos del archivo excel"
   ]
  },
  {
   "cell_type": "code",
   "execution_count": 11,
   "metadata": {},
   "outputs": [
    {
     "data": {
      "text/plain": [
       "<bound method DataFrame.info of       ID_Tipo                                    Tipo  ID _Institution  \\\n",
       "0           1                               Municipal                1   \n",
       "1           1                               Municipal                2   \n",
       "2           1                               Municipal                3   \n",
       "3           1                               Municipal                4   \n",
       "4           1                               Municipal                5   \n",
       "...       ...                                     ...              ...   \n",
       "3573        4  Corporación de Administración Delegada             3574   \n",
       "3574        4  Corporación de Administración Delegada             3575   \n",
       "3575        4  Corporación de Administración Delegada             3576   \n",
       "3576        4  Corporación de Administración Delegada             3577   \n",
       "3577        4  Corporación de Administración Delegada             3578   \n",
       "\n",
       "                                                Colegio  Cant_alumnos  \\\n",
       "0                               Liceo Politécnico Arica           119   \n",
       "1                             Liceo Octavio Palma Pérez           515   \n",
       "2                              Jovina Naranjo Fernández           199   \n",
       "3           Liceo Politécnico Antonio Varas de la Barra           227   \n",
       "4               Colegio Integrado Eduardo Frei Montalva           111   \n",
       "...                                                 ...           ...   \n",
       "3573           Liceo Industrial Benjamín Dávila Larraín           192   \n",
       "3574  Liceo Instituto Tecnológico y Comercial Recole...            65   \n",
       "3575           Liceo Polivalente Rafael Donoso Carrasco           112   \n",
       "3576                       Liceo Industrial de Recoleta            62   \n",
       "3577                    Liceo Comercial de San Bernardo           288   \n",
       "\n",
       "      Promedio_PSU  Promedio_NEM  \n",
       "0       415.960227      5.585470  \n",
       "1       510.320136      5.989162  \n",
       "2       471.464706      5.530867  \n",
       "3       412.055556      5.689031  \n",
       "4       458.666667      5.494234  \n",
       "...            ...           ...  \n",
       "3573    489.657738      5.438438  \n",
       "3574    418.036364      5.268462  \n",
       "3575    492.244444      5.263571  \n",
       "3576    401.192308      5.273387  \n",
       "3577    453.980315      5.394201  \n",
       "\n",
       "[3578 rows x 7 columns]>"
      ]
     },
     "execution_count": 11,
     "metadata": {},
     "output_type": "execute_result"
    }
   ],
   "source": [
    "psu.info #muestra la información del excel igual o muy igual al head Preguntar a Vera la diferencia"
   ]
  },
  {
   "cell_type": "code",
   "execution_count": 12,
   "metadata": {},
   "outputs": [
    {
     "name": "stdout",
     "output_type": "stream",
     "text": [
      "<class 'pandas.core.frame.DataFrame'>\n",
      "RangeIndex: 3578 entries, 0 to 3577\n",
      "Data columns (total 7 columns):\n",
      "ID_Tipo            3578 non-null int64\n",
      "Tipo               3578 non-null object\n",
      "ID _Institution    3578 non-null int64\n",
      "Colegio            3578 non-null object\n",
      "Cant_alumnos       3578 non-null int64\n",
      "Promedio_PSU       3578 non-null object\n",
      "Promedio_NEM       3578 non-null object\n",
      "dtypes: int64(3), object(4)\n",
      "memory usage: 195.8+ KB\n"
     ]
    }
   ],
   "source": [
    "import numpy as np #importamos la librería numpy \n",
    "nuevo=pd.DataFrame(psu) #creamos variable nuevo pd es de panda entonces nuevo guarda el dataframe de psu archivo excel \n",
    "nuevo=nuevo.replace(np.nan,\"0\")  #nuevo remplaza datos vacíos(NAN) con cero\n",
    "nuevo.info() #muestra el tipo de objeto de cada columna"
   ]
  },
  {
   "cell_type": "code",
   "execution_count": 13,
   "metadata": {},
   "outputs": [
    {
     "data": {
      "text/html": [
       "<div>\n",
       "<style scoped>\n",
       "    .dataframe tbody tr th:only-of-type {\n",
       "        vertical-align: middle;\n",
       "    }\n",
       "\n",
       "    .dataframe tbody tr th {\n",
       "        vertical-align: top;\n",
       "    }\n",
       "\n",
       "    .dataframe thead th {\n",
       "        text-align: right;\n",
       "    }\n",
       "</style>\n",
       "<table border=\"1\" class=\"dataframe\">\n",
       "  <thead>\n",
       "    <tr style=\"text-align: right;\">\n",
       "      <th></th>\n",
       "      <th>ID_Tipo</th>\n",
       "      <th>ID _Institution</th>\n",
       "      <th>Cant_alumnos</th>\n",
       "    </tr>\n",
       "  </thead>\n",
       "  <tbody>\n",
       "    <tr>\n",
       "      <th>count</th>\n",
       "      <td>3578.000000</td>\n",
       "      <td>3578.000000</td>\n",
       "      <td>3578.000000</td>\n",
       "    </tr>\n",
       "    <tr>\n",
       "      <th>mean</th>\n",
       "      <td>1.897988</td>\n",
       "      <td>1789.500000</td>\n",
       "      <td>81.123533</td>\n",
       "    </tr>\n",
       "    <tr>\n",
       "      <th>std</th>\n",
       "      <td>0.690153</td>\n",
       "      <td>1033.023959</td>\n",
       "      <td>86.430270</td>\n",
       "    </tr>\n",
       "    <tr>\n",
       "      <th>min</th>\n",
       "      <td>1.000000</td>\n",
       "      <td>1.000000</td>\n",
       "      <td>1.000000</td>\n",
       "    </tr>\n",
       "    <tr>\n",
       "      <th>25%</th>\n",
       "      <td>1.000000</td>\n",
       "      <td>895.250000</td>\n",
       "      <td>28.000000</td>\n",
       "    </tr>\n",
       "    <tr>\n",
       "      <th>50%</th>\n",
       "      <td>2.000000</td>\n",
       "      <td>1789.500000</td>\n",
       "      <td>57.000000</td>\n",
       "    </tr>\n",
       "    <tr>\n",
       "      <th>75%</th>\n",
       "      <td>2.000000</td>\n",
       "      <td>2683.750000</td>\n",
       "      <td>106.000000</td>\n",
       "    </tr>\n",
       "    <tr>\n",
       "      <th>max</th>\n",
       "      <td>4.000000</td>\n",
       "      <td>3578.000000</td>\n",
       "      <td>1088.000000</td>\n",
       "    </tr>\n",
       "  </tbody>\n",
       "</table>\n",
       "</div>"
      ],
      "text/plain": [
       "           ID_Tipo  ID _Institution  Cant_alumnos\n",
       "count  3578.000000      3578.000000   3578.000000\n",
       "mean      1.897988      1789.500000     81.123533\n",
       "std       0.690153      1033.023959     86.430270\n",
       "min       1.000000         1.000000      1.000000\n",
       "25%       1.000000       895.250000     28.000000\n",
       "50%       2.000000      1789.500000     57.000000\n",
       "75%       2.000000      2683.750000    106.000000\n",
       "max       4.000000      3578.000000   1088.000000"
      ]
     },
     "execution_count": 13,
     "metadata": {},
     "output_type": "execute_result"
    }
   ],
   "source": [
    "nuevo.describe()"
   ]
  },
  {
   "cell_type": "code",
   "execution_count": 16,
   "metadata": {},
   "outputs": [
    {
     "data": {
      "image/png": "[encoded data removed]",
      "text/plain": [
       "<Figure size 432x288 with 1 Axes>"
      ]
     },
     "metadata": {
      "needs_background": "light"
     },
     "output_type": "display_data"
    }
   ],
   "source": [
    "%matplotlib inline \n",
    "import matplotlib.pyplot as plt #importamos la librería matplotlib\n",
    "\n",
    "plt.title('gráfico de psu') #plt.título de gráfico\n",
    "\n",
    "a= psu['Promedio_PSU'] #dejamos el promedio psu en la variable a\n",
    "b= psu['Promedio_NEM'] #dejamos el promedio nem en la variable b\n",
    "c= psu['Cant_alumnos'] #dejamos la cantidad de alumnos en la variable c\n",
    "d= psu['ID_Tipo'] #dejamos el tipo de colegio en la variable c\n",
    "\n",
    "plt.bar(a,b , label='Datos 1', width=0.5, color ='red') #llamamos a la variable desde el gráfico de barras\n",
    "plt.bar(b,a , label='Datos 2', width=0.5, color ='yellow')\n",
    "plt.bar(c,d , label='Datos 3', width=0.5, color ='blue')\n",
    "plt.bar(d,c , label='Datos 4', width=0.5, color ='pink')\n",
    "\n",
    "plt.ylabel('eje y')\n",
    "plt.xlabel('eje x')\n",
    "\n",
    "plt.show() #mostrar leyenda y figura "
   ]
  },
  {
   "cell_type": "code",
   "execution_count": null,
   "metadata": {},
   "outputs": [],
   "source": []
  }
 ],
 "metadata": {
  "kernelspec": {
   "display_name": "Python 3",
   "language": "python",
   "name": "python3"
  },
  "language_info": {
   "codemirror_mode": {
    "name": "ipython",
    "version": 3
   },
   "file_extension": ".py",
   "mimetype": "text/x-python",
   "name": "python",
   "nbconvert_exporter": "python",
   "pygments_lexer": "ipython3",
   "version": "3.7.4"
  }
 },
 "nbformat": 4,
 "nbformat_minor": 2
}
